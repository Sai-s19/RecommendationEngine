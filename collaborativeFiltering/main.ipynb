import collaborativeFiltering

def main():
    
    cfre = collaborativeFilteringRecommendationEngine()
    
    userDf, ratingsDf, itemDf = cfre.dataRead()
    
    data_matrix = cfre.dataPrep(ratingsDf)
    
    user_similarity, item_similarity = cfre.similarity(data_matrix, "cosine")
    
    user_prediction = cfre.predict(data_matrix, user_similarity, type='user')
    item_prediction = cfre.predict(data_matrix, item_similarity, type='item')
    
    resultDf = cfre.recommend(item_prediction, itemDf)
    print(resultDf)
    
    return resultDf
