{
 "cells": [
  {
   "cell_type": "code",
   "execution_count": 4,
   "metadata": {},
   "outputs": [],
   "source": [
    "import pandas as pd\n",
    "import numpy as np\n",
    "from sklearn.metrics.pairwise import pairwise_distances"
   ]
  },
  {
   "cell_type": "code",
   "execution_count": 6,
   "metadata": {},
   "outputs": [],
   "source": [
    "class collaborativeFilteringRecommendationEngine:\n",
    "    \n",
    "    def dataRead(self):\n",
    "        \n",
    "        u_cols = ['user_id', 'age', 'sex', 'occupation', 'zip_code']\n",
    "        userDf = pd.read_csv(u.userFileLocation, sep = \"|\", encoding = \"latin1\", names = u_cols)\n",
    "\n",
    "        r_cols = ['user_id', 'movie_id', 'ratings', 'timestamp']\n",
    "        ratingsDf = pd.read_csv(u.dataFileLocation, sep = \"\\t\", encoding = \"latin1\", names = r_cols)\n",
    "\n",
    "        i_cols = ['movie id', 'movie title' ,'release date','video release date', 'IMDb URL', 'unknown', 'Action', 'Adventure',\n",
    "        'Animation', 'Children\\'s', 'Comedy', 'Crime', 'Documentary', 'Drama', 'Fantasy',\n",
    "        'Film-Noir', 'Horror', 'Musical', 'Mystery', 'Romance', 'Sci-Fi', 'Thriller', 'War', 'Western']\n",
    "        itemDf = pd.read_csv(u.itemFileLocation, sep = \"|\", encoding = \"latin1\", names = i_cols)\n",
    "        \n",
    "        return userDf, ratingsDf, itemDf\n",
    "    \n",
    "    def dataPrep(self, ratingsDf):\n",
    "\n",
    "        n_users = ratingsDf.user_id.unique().shape[0]\n",
    "        n_items = ratingsDf.movie_id.unique().shape[0]\n",
    "\n",
    "        data_matrix = np.zeros((n_users,n_items))\n",
    "        for line in ratingsDf.itertuples():\n",
    "            data_matrix[line[1]-1,line[2]-1] = line[3]\n",
    "\n",
    "        return data_matrix\n",
    "\n",
    "    def similarity(self, data_matrix, metrics):\n",
    "\n",
    "        user_similarity = pairwise_distances(data_matrix, metric = metrics)\n",
    "        item_similarity = pairwise_distances(data_matrix.T, metric = metrics)\n",
    "\n",
    "        return user_similarity, item_similarity\n",
    "\n",
    "    def predict(self, ratings, similarity, type='user'):\n",
    "        \n",
    "        if type == 'user':\n",
    "            \n",
    "            mean_user_rating = ratings.mean(axis=1)\n",
    "            #We use np.newaxis so that mean_user_rating has same format as ratings\n",
    "            ratings_diff = (ratings - mean_user_rating[:, np.newaxis])\n",
    "            pred = mean_user_rating[:, np.newaxis] + similarity.dot(ratings_diff) / np.array([np.abs(similarity).sum(axis=1)]).T\n",
    "        \n",
    "        elif type == 'item':\n",
    "        \n",
    "            pred = ratings.dot(similarity) / np.array([np.abs(similarity).sum(axis=1)])\n",
    "        \n",
    "        return pred\n",
    "\n",
    "    def recommend(self, pred, itemDf):\n",
    "\n",
    "        recommendations = []\n",
    "        for item in pred:\n",
    "            recommendations.append(item.tolist().index(max(item)))\n",
    "\n",
    "        recommendationsDf = pd.DataFrame(data = recommendations, columns = [\"movie id\"])\n",
    "        recommendationsDf['user_id'] = range(1, len(recommendationsDf) + 1)\n",
    "\n",
    "        resultDf = pd.merge(recommendationsDf[[\"user_id\", \"movie id\"]],\n",
    "                     itemDf[[\"movie id\", \"movie title\"]],\n",
    "                     on='movie id', \n",
    "                     how='inner', sort = False)\n",
    "\n",
    "        return resultDf"
   ]
  }
 ],
 "metadata": {
  "kernelspec": {
   "display_name": "Python 3",
   "language": "python",
   "name": "python3"
  },
  "language_info": {
   "codemirror_mode": {
    "name": "ipython",
    "version": 3
   },
   "file_extension": ".py",
   "mimetype": "text/x-python",
   "name": "python",
   "nbconvert_exporter": "python",
   "pygments_lexer": "ipython3",
   "version": "3.6.5"
  }
 },
 "nbformat": 4,
 "nbformat_minor": 2
}
